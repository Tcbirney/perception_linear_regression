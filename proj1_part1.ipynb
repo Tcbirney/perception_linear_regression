{
 "cells": [
  {
   "cell_type": "code",
   "execution_count": 1,
   "metadata": {},
   "outputs": [],
   "source": [
    "import cv2\n",
    "import pandas as pd\n",
    "import numpy as np\n",
    "import matplotlib.pyplot as plt\n"
   ]
  },
  {
   "cell_type": "code",
   "execution_count": 2,
   "metadata": {},
   "outputs": [
    {
     "name": "stdout",
     "output_type": "stream",
     "text": [
      "Can't receive frame (stream end?). Exiting ...\n"
     ]
    }
   ],
   "source": [
    "def read_video():\n",
    "\n",
    "    cap = cv2.VideoCapture('ball.mov')\n",
    "\n",
    "    frames = []\n",
    "    xs = []\n",
    "    ys = []\n",
    "\n",
    "    # this reads the video, captures frames, collects \n",
    "    # and plots the coordinates of the center of the ball \n",
    "    while cap.isOpened():\n",
    "        ret, frame = cap.read()\n",
    "\n",
    "        # if frame is read correctly ret is True\n",
    "        if not ret:\n",
    "            print(\"Can't receive frame (stream end?). Exiting ...\")\n",
    "            break\n",
    "        \n",
    "        # find the maks of the ball\n",
    "        hsv = cv2.cvtColor(frame, cv2.COLOR_BGR2HSV)\n",
    "        mask = cv2.inRange(hsv, (0, 130, 0), (8, 255, 255))\n",
    "        mask[400:, :200] = 0\n",
    "        mask[500:, :900] = 0\n",
    "        kernel = np.ones((5,5),np.uint8)\n",
    "        mask = cv2.morphologyEx(mask, cv2.MORPH_CLOSE, kernel)\n",
    "\n",
    "        # find the center location of the ball\n",
    "        y_coords, x_coords = np.nonzero(mask)\n",
    "        \n",
    "        if len(y_coords) != 0:\n",
    "            avg_x = int(np.mean(x_coords))\n",
    "            avg_y = int(np.mean(y_coords))\n",
    "            \n",
    "            xs.append(avg_x)\n",
    "            ys.append(avg_y)\n",
    "            \n",
    "            frame = cv2.circle(frame, (avg_x, avg_y), 5, (0, 255, 0), -1)\n",
    "            \n",
    "        frames.append(frame)\n",
    "\n",
    "        cv2.imshow('frame', frame)\n",
    "        if cv2.waitKey(1) == ord('q'):\n",
    "            break\n",
    "\n",
    "    cap.release()\n",
    "    cv2.destroyAllWindows()\n",
    "\n",
    "\n",
    "    return frames, xs, ys\n",
    "\n",
    "\n",
    "frames, xs, ys = read_video()"
   ]
  },
  {
   "cell_type": "code",
   "execution_count": 3,
   "metadata": {},
   "outputs": [
    {
     "data": {
      "text/plain": [
       "(1218, 1, 2)"
      ]
     },
     "execution_count": 3,
     "metadata": {},
     "output_type": "execute_result"
    }
   ],
   "source": [
    "def find_curve(xs, ys):\n",
    "    # find the coefficients for the parabola function\n",
    "\n",
    "    Y = np.array([ys]).reshape(-1, 1)\n",
    "    xs = np.array([xs]).reshape(-1, )\n",
    "    X = np.ones(shape = (Y.shape[0], 3))\n",
    "    X[:, 0] = xs*xs\n",
    "    X[:, 1] = xs\n",
    "\n",
    "    B = np.linalg.inv(X.T@X)@(X.T@Y)\n",
    "\n",
    "    a = B[0][0]\n",
    "    b = B[1][0]\n",
    "    c = B[2][0]\n",
    "    \n",
    "        \n",
    "    x_range = []\n",
    "    y_domain = []\n",
    "\n",
    "    for x in range(frames[0].shape[1]):\n",
    "        y = a*x*x + b*x + c\n",
    "        x_range.append(x)\n",
    "        y_domain.append(y)\n",
    "        \n",
    "    return np.array(list(zip(x_range, y_domain)), dtype = np.int32).reshape((-1, 1, 2))\n",
    "\n",
    "points = find_curve(xs, ys)\n",
    "points.shape"
   ]
  },
  {
   "cell_type": "code",
   "execution_count": 6,
   "metadata": {},
   "outputs": [],
   "source": [
    "def write_video(frames, points):\n",
    "\n",
    "    size = (frames[0].shape[1], frames[0].shape[0]) \n",
    "\n",
    "    # Below VideoWriter object will create \n",
    "    # a frame of above defined The output  \n",
    "    # is stored in 'filename.avi' file. \n",
    "    result = cv2.VideoWriter('proj1_part1.avi',  \n",
    "                            cv2.VideoWriter_fourcc(*'MJPG'), \n",
    "                            60, size) \n",
    "    \n",
    "    for frame in frames: \n",
    "        frame = cv2.polylines(frame, [points], False, (0,0,255), 1)\n",
    "        result.write(frame) \n",
    "        \n",
    "    result.release()\n",
    "    "
   ]
  },
  {
   "cell_type": "code",
   "execution_count": 7,
   "metadata": {},
   "outputs": [],
   "source": [
    "write_video(frames, points)"
   ]
  },
  {
   "cell_type": "code",
   "execution_count": null,
   "metadata": {},
   "outputs": [],
   "source": []
  }
 ],
 "metadata": {
  "kernelspec": {
   "display_name": "Python 3",
   "language": "python",
   "name": "python3"
  },
  "language_info": {
   "codemirror_mode": {
    "name": "ipython",
    "version": 3
   },
   "file_extension": ".py",
   "mimetype": "text/x-python",
   "name": "python",
   "nbconvert_exporter": "python",
   "pygments_lexer": "ipython3",
   "version": "3.8.10"
  }
 },
 "nbformat": 4,
 "nbformat_minor": 2
}
